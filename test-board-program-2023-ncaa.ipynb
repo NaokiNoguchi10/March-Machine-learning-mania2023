{
 "cells": [
  {
   "cell_type": "markdown",
   "metadata": {
    "papermill": {
     "duration": 0.078932,
     "end_time": "2022-02-25T19:24:43.22369",
     "exception": false,
     "start_time": "2022-02-25T19:24:43.144758",
     "status": "completed"
    },
    "tags": []
   },
   "source": [
    "# Adapting the 2nd Place Solution of the 2021 NCAAW Competition\n",
    "\n",
    "- Solution write-up is available here : https://www.kaggle.com/c/ncaaw-march-mania-2021/discussion/230705\n",
    "- 2nd place code : https://www.kaggle.com/theoviel/2nd-place-ncaaw-2021?scriptVersionId=58780991\n",
    "- It was adapted from this notebook : https://www.kaggle.com/theoviel/ncaa-starter-the-simpler-the-better \n",
    "\n",
    "**Changes :**\n",
    "- Build one model for both Men and Women\n",
    "- Update metric to MSE"
   ]
  },
  {
   "cell_type": "code",
   "execution_count": 1,
   "metadata": {
    "_cell_guid": "b1076dfc-b9ad-4769-8c92-a6c4dae69d19",
    "_uuid": "8f2839f25d086af736a60e9eeb907d3b93b6e0e5",
    "execution": {
     "iopub.execute_input": "2023-02-20T15:17:26.249787Z",
     "iopub.status.busy": "2023-02-20T15:17:26.248945Z",
     "iopub.status.idle": "2023-02-20T15:17:27.427789Z",
     "shell.execute_reply": "2023-02-20T15:17:27.426756Z",
     "shell.execute_reply.started": "2023-02-20T15:17:26.249692Z"
    },
    "papermill": {
     "duration": 1.277111,
     "end_time": "2022-02-25T19:24:44.575737",
     "exception": false,
     "start_time": "2022-02-25T19:24:43.298626",
     "status": "completed"
    },
    "tags": []
   },
   "outputs": [],
   "source": [
    "import os\n",
    "import re\n",
    "import sklearn\n",
    "import numpy as np \n",
    "import pandas as pd\n",
    "import seaborn as sns\n",
    "import matplotlib.pyplot as plt\n",
    "\n",
    "from collections import Counter\n",
    "from sklearn.metrics import *\n",
    "from sklearn.linear_model import *\n",
    "from sklearn.model_selection import *\n",
    "\n",
    "pd.set_option('display.max_columns', None)"
   ]
  },
  {
   "cell_type": "code",
   "execution_count": 2,
   "metadata": {
    "execution": {
     "iopub.execute_input": "2023-02-20T15:17:27.430320Z",
     "iopub.status.busy": "2023-02-20T15:17:27.429697Z",
     "iopub.status.idle": "2023-02-20T15:17:27.437418Z",
     "shell.execute_reply": "2023-02-20T15:17:27.436073Z",
     "shell.execute_reply.started": "2023-02-20T15:17:27.430282Z"
    },
    "papermill": {
     "duration": 0.090265,
     "end_time": "2022-02-25T19:24:44.740927",
     "exception": false,
     "start_time": "2022-02-25T19:24:44.650662",
     "status": "completed"
    },
    "tags": []
   },
   "outputs": [
    {
     "name": "stdout",
     "output_type": "stream",
     "text": [
      "Cities.csv\n",
      "Conferences.csv\n",
      "MConferenceTourneyGames.csv\n",
      "MGameCities.csv\n",
      "MMasseyOrdinals.csv\n",
      "MNCAATourneyCompactResults.csv\n",
      "MNCAATourneyDetailedResults.csv\n",
      "MNCAATourneySeedRoundSlots.csv\n",
      "MNCAATourneySeeds.csv\n",
      "MNCAATourneySlots.csv\n",
      "MRegularSeasonCompactResults.csv\n",
      "MRegularSeasonDetailedResults.csv\n",
      "MSeasons.csv\n",
      "MSecondaryTourneyCompactResults.csv\n",
      "MSecondaryTourneyTeams.csv\n",
      "MTeamCoaches.csv\n",
      "MTeamConferences.csv\n",
      "MTeamSpellings.csv\n",
      "MTeams.csv\n",
      "SampleSubmission2023.csv\n",
      "WGameCities.csv\n",
      "WNCAATourneyCompactResults.csv\n",
      "WNCAATourneyDetailedResults.csv\n",
      "WNCAATourneySeeds.csv\n",
      "WNCAATourneySlots.csv\n",
      "WRegularSeasonCompactResults.csv\n",
      "WRegularSeasonDetailedResults.csv\n",
      "WSeasons.csv\n",
      "WTeamConferences.csv\n",
      "WTeamSpellings.csv\n",
      "WTeams.csv\n"
     ]
    }
   ],
   "source": [
    "DATA_PATH = '/kaggle/input/march-machine-learning-mania-2023/'\n",
    "\n",
    "for filename in sorted(os.listdir(DATA_PATH)):\n",
    "    print(filename)"
   ]
  },
  {
   "cell_type": "markdown",
   "metadata": {
    "papermill": {
     "duration": 0.073341,
     "end_time": "2022-02-25T19:24:44.888269",
     "exception": false,
     "start_time": "2022-02-25T19:24:44.814928",
     "status": "completed"
    },
    "tags": []
   },
   "source": [
    "# Data preparation"
   ]
  },
  {
   "cell_type": "markdown",
   "metadata": {
    "papermill": {
     "duration": 0.074768,
     "end_time": "2022-02-25T19:24:45.038561",
     "exception": false,
     "start_time": "2022-02-25T19:24:44.963793",
     "status": "completed"
    },
    "tags": []
   },
   "source": [
    "## Seeds\n",
    "> This file identifies the seeds for all teams in each NCAA® tournament, for all seasons of historical data. Thus, there are between 64-68 rows for each year, depending on whether there were any play-in games and how many there were. In recent years the structure has settled at 68 total teams, with four \"play-in\" games leading to the final field of 64 teams entering Round 1 on Thursday of the first week (by definition, that is DayNum=136 each season). We will not know the seeds of the respective tournament teams, or even exactly which 68 teams it will be, until Selection Sunday on March 15, 2020 (DayNum=132).\n",
    "\n",
    "> The seed is a 3/4-character :\n",
    "- First character : Region (W, X, Y, or Z)\n",
    "- Next two digits : Seed within the region (01 to 16)\n",
    "- Last character (optional): Distinguishes teams between play-ins ( a or b)"
   ]
  },
  {
   "cell_type": "code",
   "execution_count": 3,
   "metadata": {
    "execution": {
     "iopub.execute_input": "2023-02-20T15:17:27.439828Z",
     "iopub.status.busy": "2023-02-20T15:17:27.439288Z",
     "iopub.status.idle": "2023-02-20T15:17:27.486209Z",
     "shell.execute_reply": "2023-02-20T15:17:27.485394Z",
     "shell.execute_reply.started": "2023-02-20T15:17:27.439781Z"
    },
    "papermill": {
     "duration": 0.104892,
     "end_time": "2022-02-25T19:24:45.217994",
     "exception": false,
     "start_time": "2022-02-25T19:24:45.113102",
     "status": "completed"
    },
    "tags": []
   },
   "outputs": [
    {
     "data": {
      "text/html": [
       "<div>\n",
       "<style scoped>\n",
       "    .dataframe tbody tr th:only-of-type {\n",
       "        vertical-align: middle;\n",
       "    }\n",
       "\n",
       "    .dataframe tbody tr th {\n",
       "        vertical-align: top;\n",
       "    }\n",
       "\n",
       "    .dataframe thead th {\n",
       "        text-align: right;\n",
       "    }\n",
       "</style>\n",
       "<table border=\"1\" class=\"dataframe\">\n",
       "  <thead>\n",
       "    <tr style=\"text-align: right;\">\n",
       "      <th></th>\n",
       "      <th>Season</th>\n",
       "      <th>Seed</th>\n",
       "      <th>TeamID</th>\n",
       "    </tr>\n",
       "  </thead>\n",
       "  <tbody>\n",
       "    <tr>\n",
       "      <th>0</th>\n",
       "      <td>1985</td>\n",
       "      <td>W01</td>\n",
       "      <td>1207</td>\n",
       "    </tr>\n",
       "    <tr>\n",
       "      <th>1</th>\n",
       "      <td>1985</td>\n",
       "      <td>W02</td>\n",
       "      <td>1210</td>\n",
       "    </tr>\n",
       "    <tr>\n",
       "      <th>2</th>\n",
       "      <td>1985</td>\n",
       "      <td>W03</td>\n",
       "      <td>1228</td>\n",
       "    </tr>\n",
       "    <tr>\n",
       "      <th>3</th>\n",
       "      <td>1985</td>\n",
       "      <td>W04</td>\n",
       "      <td>1260</td>\n",
       "    </tr>\n",
       "    <tr>\n",
       "      <th>4</th>\n",
       "      <td>1985</td>\n",
       "      <td>W05</td>\n",
       "      <td>1374</td>\n",
       "    </tr>\n",
       "  </tbody>\n",
       "</table>\n",
       "</div>"
      ],
      "text/plain": [
       "   Season Seed  TeamID\n",
       "0    1985  W01    1207\n",
       "1    1985  W02    1210\n",
       "2    1985  W03    1228\n",
       "3    1985  W04    1260\n",
       "4    1985  W05    1374"
      ]
     },
     "execution_count": 3,
     "metadata": {},
     "output_type": "execute_result"
    }
   ],
   "source": [
    "df_seeds = pd.concat([\n",
    "    pd.read_csv(DATA_PATH + \"MNCAATourneySeeds.csv\"),\n",
    "    pd.read_csv(DATA_PATH + \"WNCAATourneySeeds.csv\"),\n",
    "], ignore_index=True)\n",
    "    \n",
    "df_seeds.head()"
   ]
  },
  {
   "cell_type": "markdown",
   "metadata": {
    "papermill": {
     "duration": 0.077208,
     "end_time": "2022-02-25T19:24:45.370539",
     "exception": false,
     "start_time": "2022-02-25T19:24:45.293331",
     "status": "completed"
    },
    "tags": []
   },
   "source": [
    "## Season results\n",
    "> This file identifies the game-by-game results for many seasons of historical data, starting with the 1985 season (the first year the NCAA® had a 64-team tournament). For each season, the file includes all games played from DayNum 0 through 132. It is important to realize that the \"Regular Season\" games are simply defined to be all games played on DayNum=132 or earlier (DayNum=132 is Selection Sunday, and there are always a few conference tournament finals actually played early in the day on Selection Sunday itself). Thus a game played on or before Selection Sunday will show up here whether it was a pre-season tournament, a non-conference game, a regular conference game, a conference tournament game, or whatever."
   ]
  },
  {
   "cell_type": "code",
   "execution_count": 4,
   "metadata": {
    "execution": {
     "iopub.execute_input": "2023-02-20T15:17:27.490152Z",
     "iopub.status.busy": "2023-02-20T15:17:27.489666Z",
     "iopub.status.idle": "2023-02-20T15:17:27.858475Z",
     "shell.execute_reply": "2023-02-20T15:17:27.857365Z",
     "shell.execute_reply.started": "2023-02-20T15:17:27.490105Z"
    },
    "papermill": {
     "duration": 0.25674,
     "end_time": "2022-02-25T19:24:45.703808",
     "exception": false,
     "start_time": "2022-02-25T19:24:45.447068",
     "status": "completed"
    },
    "tags": []
   },
   "outputs": [],
   "source": [
    "df_season_results = pd.concat([\n",
    "    pd.read_csv(DATA_PATH + \"MRegularSeasonCompactResults.csv\"),\n",
    "    pd.read_csv(DATA_PATH + \"WRegularSeasonCompactResults.csv\"),\n",
    "], ignore_index=True)\n",
    "\n",
    "df_season_results.drop(['NumOT', 'WLoc'], axis=1, inplace=True)"
   ]
  },
  {
   "cell_type": "code",
   "execution_count": 5,
   "metadata": {
    "execution": {
     "iopub.execute_input": "2023-02-20T15:17:27.860831Z",
     "iopub.status.busy": "2023-02-20T15:17:27.860369Z",
     "iopub.status.idle": "2023-02-20T15:17:27.872522Z",
     "shell.execute_reply": "2023-02-20T15:17:27.871440Z",
     "shell.execute_reply.started": "2023-02-20T15:17:27.860788Z"
    },
    "papermill": {
     "duration": 0.087908,
     "end_time": "2022-02-25T19:24:45.867516",
     "exception": false,
     "start_time": "2022-02-25T19:24:45.779608",
     "status": "completed"
    },
    "tags": []
   },
   "outputs": [],
   "source": [
    "df_season_results['ScoreGap'] = df_season_results['WScore'] - df_season_results['LScore']"
   ]
  },
  {
   "cell_type": "code",
   "execution_count": 6,
   "metadata": {
    "execution": {
     "iopub.execute_input": "2023-02-20T15:17:27.874083Z",
     "iopub.status.busy": "2023-02-20T15:17:27.873765Z",
     "iopub.status.idle": "2023-02-20T15:17:27.888131Z",
     "shell.execute_reply": "2023-02-20T15:17:27.886906Z",
     "shell.execute_reply.started": "2023-02-20T15:17:27.874054Z"
    },
    "papermill": {
     "duration": 0.08798,
     "end_time": "2022-02-25T19:24:46.029839",
     "exception": false,
     "start_time": "2022-02-25T19:24:45.941859",
     "status": "completed"
    },
    "tags": []
   },
   "outputs": [
    {
     "data": {
      "text/html": [
       "<div>\n",
       "<style scoped>\n",
       "    .dataframe tbody tr th:only-of-type {\n",
       "        vertical-align: middle;\n",
       "    }\n",
       "\n",
       "    .dataframe tbody tr th {\n",
       "        vertical-align: top;\n",
       "    }\n",
       "\n",
       "    .dataframe thead th {\n",
       "        text-align: right;\n",
       "    }\n",
       "</style>\n",
       "<table border=\"1\" class=\"dataframe\">\n",
       "  <thead>\n",
       "    <tr style=\"text-align: right;\">\n",
       "      <th></th>\n",
       "      <th>Season</th>\n",
       "      <th>DayNum</th>\n",
       "      <th>WTeamID</th>\n",
       "      <th>WScore</th>\n",
       "      <th>LTeamID</th>\n",
       "      <th>LScore</th>\n",
       "      <th>ScoreGap</th>\n",
       "    </tr>\n",
       "  </thead>\n",
       "  <tbody>\n",
       "    <tr>\n",
       "      <th>0</th>\n",
       "      <td>1985</td>\n",
       "      <td>20</td>\n",
       "      <td>1228</td>\n",
       "      <td>81</td>\n",
       "      <td>1328</td>\n",
       "      <td>64</td>\n",
       "      <td>17</td>\n",
       "    </tr>\n",
       "    <tr>\n",
       "      <th>1</th>\n",
       "      <td>1985</td>\n",
       "      <td>25</td>\n",
       "      <td>1106</td>\n",
       "      <td>77</td>\n",
       "      <td>1354</td>\n",
       "      <td>70</td>\n",
       "      <td>7</td>\n",
       "    </tr>\n",
       "    <tr>\n",
       "      <th>2</th>\n",
       "      <td>1985</td>\n",
       "      <td>25</td>\n",
       "      <td>1112</td>\n",
       "      <td>63</td>\n",
       "      <td>1223</td>\n",
       "      <td>56</td>\n",
       "      <td>7</td>\n",
       "    </tr>\n",
       "    <tr>\n",
       "      <th>3</th>\n",
       "      <td>1985</td>\n",
       "      <td>25</td>\n",
       "      <td>1165</td>\n",
       "      <td>70</td>\n",
       "      <td>1432</td>\n",
       "      <td>54</td>\n",
       "      <td>16</td>\n",
       "    </tr>\n",
       "    <tr>\n",
       "      <th>4</th>\n",
       "      <td>1985</td>\n",
       "      <td>25</td>\n",
       "      <td>1192</td>\n",
       "      <td>86</td>\n",
       "      <td>1447</td>\n",
       "      <td>74</td>\n",
       "      <td>12</td>\n",
       "    </tr>\n",
       "  </tbody>\n",
       "</table>\n",
       "</div>"
      ],
      "text/plain": [
       "   Season  DayNum  WTeamID  WScore  LTeamID  LScore  ScoreGap\n",
       "0    1985      20     1228      81     1328      64        17\n",
       "1    1985      25     1106      77     1354      70         7\n",
       "2    1985      25     1112      63     1223      56         7\n",
       "3    1985      25     1165      70     1432      54        16\n",
       "4    1985      25     1192      86     1447      74        12"
      ]
     },
     "execution_count": 6,
     "metadata": {},
     "output_type": "execute_result"
    }
   ],
   "source": [
    "df_season_results.head()"
   ]
  },
  {
   "cell_type": "markdown",
   "metadata": {
    "papermill": {
     "duration": 0.07755,
     "end_time": "2022-02-25T19:24:46.185615",
     "exception": false,
     "start_time": "2022-02-25T19:24:46.108065",
     "status": "completed"
    },
    "tags": []
   },
   "source": [
    "### Features \n",
    "For each team at each season, I compute : \n",
    "- Number of wins\n",
    "- Number of losses\n",
    "- Average score gap of wins\n",
    "- Average score gap of losses\n",
    "\n",
    "And use the following features : \n",
    "- Win Ratio\n",
    "- Average score gap"
   ]
  },
  {
   "cell_type": "code",
   "execution_count": 7,
   "metadata": {
    "execution": {
     "iopub.execute_input": "2023-02-20T15:17:27.890079Z",
     "iopub.status.busy": "2023-02-20T15:17:27.889714Z",
     "iopub.status.idle": "2023-02-20T15:17:27.956806Z",
     "shell.execute_reply": "2023-02-20T15:17:27.955881Z",
     "shell.execute_reply.started": "2023-02-20T15:17:27.890041Z"
    },
    "papermill": {
     "duration": 0.119523,
     "end_time": "2022-02-25T19:24:46.382846",
     "exception": false,
     "start_time": "2022-02-25T19:24:46.263323",
     "status": "completed"
    },
    "tags": []
   },
   "outputs": [],
   "source": [
    "num_win = df_season_results.groupby(['Season', 'WTeamID']).count()\n",
    "num_win = num_win.reset_index()[['Season', 'WTeamID', 'DayNum']].rename(columns={\"DayNum\": \"NumWins\", \"WTeamID\": \"TeamID\"})"
   ]
  },
  {
   "cell_type": "code",
   "execution_count": 8,
   "metadata": {
    "execution": {
     "iopub.execute_input": "2023-02-20T15:17:27.959583Z",
     "iopub.status.busy": "2023-02-20T15:17:27.958718Z",
     "iopub.status.idle": "2023-02-20T15:17:27.999607Z",
     "shell.execute_reply": "2023-02-20T15:17:27.998684Z",
     "shell.execute_reply.started": "2023-02-20T15:17:27.959536Z"
    },
    "papermill": {
     "duration": 0.102402,
     "end_time": "2022-02-25T19:24:46.564033",
     "exception": false,
     "start_time": "2022-02-25T19:24:46.461631",
     "status": "completed"
    },
    "tags": []
   },
   "outputs": [],
   "source": [
    "num_loss = df_season_results.groupby(['Season', 'LTeamID']).count()\n",
    "num_loss = num_loss.reset_index()[['Season', 'LTeamID', 'DayNum']].rename(columns={\"DayNum\": \"NumLosses\", \"LTeamID\": \"TeamID\"})"
   ]
  },
  {
   "cell_type": "code",
   "execution_count": 9,
   "metadata": {
    "execution": {
     "iopub.execute_input": "2023-02-20T15:17:28.002548Z",
     "iopub.status.busy": "2023-02-20T15:17:28.001430Z",
     "iopub.status.idle": "2023-02-20T15:17:28.054609Z",
     "shell.execute_reply": "2023-02-20T15:17:28.053428Z",
     "shell.execute_reply.started": "2023-02-20T15:17:28.002500Z"
    },
    "papermill": {
     "duration": 0.10874,
     "end_time": "2022-02-25T19:24:46.749384",
     "exception": false,
     "start_time": "2022-02-25T19:24:46.640644",
     "status": "completed"
    },
    "tags": []
   },
   "outputs": [],
   "source": [
    "gap_win = df_season_results.groupby(['Season', 'WTeamID']).mean().reset_index()\n",
    "gap_win = gap_win[['Season', 'WTeamID', 'ScoreGap']].rename(columns={\"ScoreGap\": \"GapWins\", \"WTeamID\": \"TeamID\"})"
   ]
  },
  {
   "cell_type": "code",
   "execution_count": 10,
   "metadata": {
    "execution": {
     "iopub.execute_input": "2023-02-20T15:17:28.061420Z",
     "iopub.status.busy": "2023-02-20T15:17:28.060905Z",
     "iopub.status.idle": "2023-02-20T15:17:28.111324Z",
     "shell.execute_reply": "2023-02-20T15:17:28.110216Z",
     "shell.execute_reply.started": "2023-02-20T15:17:28.061372Z"
    },
    "papermill": {
     "duration": 0.104447,
     "end_time": "2022-02-25T19:24:46.92935",
     "exception": false,
     "start_time": "2022-02-25T19:24:46.824903",
     "status": "completed"
    },
    "tags": []
   },
   "outputs": [],
   "source": [
    "gap_loss = df_season_results.groupby(['Season', 'LTeamID']).mean().reset_index()\n",
    "gap_loss = gap_loss[['Season', 'LTeamID', 'ScoreGap']].rename(columns={\"ScoreGap\": \"GapLosses\", \"LTeamID\": \"TeamID\"})"
   ]
  },
  {
   "cell_type": "markdown",
   "metadata": {
    "papermill": {
     "duration": 0.076173,
     "end_time": "2022-02-25T19:24:47.082821",
     "exception": false,
     "start_time": "2022-02-25T19:24:47.006648",
     "status": "completed"
    },
    "tags": []
   },
   "source": [
    "Merge"
   ]
  },
  {
   "cell_type": "code",
   "execution_count": 11,
   "metadata": {
    "execution": {
     "iopub.execute_input": "2023-02-20T15:17:28.113534Z",
     "iopub.status.busy": "2023-02-20T15:17:28.113201Z",
     "iopub.status.idle": "2023-02-20T15:17:28.181439Z",
     "shell.execute_reply": "2023-02-20T15:17:28.180323Z",
     "shell.execute_reply.started": "2023-02-20T15:17:28.113504Z"
    },
    "papermill": {
     "duration": 0.115032,
     "end_time": "2022-02-25T19:24:47.274624",
     "exception": false,
     "start_time": "2022-02-25T19:24:47.159592",
     "status": "completed"
    },
    "tags": []
   },
   "outputs": [],
   "source": [
    "df_features_season_w = df_season_results.groupby(['Season', 'WTeamID']).count().reset_index()[['Season', 'WTeamID']].rename(columns={\"WTeamID\": \"TeamID\"})\n",
    "df_features_season_l = df_season_results.groupby(['Season', 'LTeamID']).count().reset_index()[['Season', 'LTeamID']].rename(columns={\"LTeamID\": \"TeamID\"})"
   ]
  },
  {
   "cell_type": "code",
   "execution_count": 12,
   "metadata": {
    "execution": {
     "iopub.execute_input": "2023-02-20T15:17:28.183363Z",
     "iopub.status.busy": "2023-02-20T15:17:28.182840Z",
     "iopub.status.idle": "2023-02-20T15:17:28.202077Z",
     "shell.execute_reply": "2023-02-20T15:17:28.200775Z",
     "shell.execute_reply.started": "2023-02-20T15:17:28.183317Z"
    },
    "papermill": {
     "duration": 0.097733,
     "end_time": "2022-02-25T19:24:47.447108",
     "exception": false,
     "start_time": "2022-02-25T19:24:47.349375",
     "status": "completed"
    },
    "tags": []
   },
   "outputs": [],
   "source": [
    "df_features_season = pd.concat([df_features_season_w, df_features_season_l], axis=0).drop_duplicates().sort_values(['Season', 'TeamID']).reset_index(drop=True)"
   ]
  },
  {
   "cell_type": "code",
   "execution_count": 13,
   "metadata": {
    "execution": {
     "iopub.execute_input": "2023-02-20T15:17:28.204376Z",
     "iopub.status.busy": "2023-02-20T15:17:28.203572Z",
     "iopub.status.idle": "2023-02-20T15:17:28.255352Z",
     "shell.execute_reply": "2023-02-20T15:17:28.254074Z",
     "shell.execute_reply.started": "2023-02-20T15:17:28.204304Z"
    },
    "papermill": {
     "duration": 0.108977,
     "end_time": "2022-02-25T19:24:47.63335",
     "exception": false,
     "start_time": "2022-02-25T19:24:47.524373",
     "status": "completed"
    },
    "tags": []
   },
   "outputs": [],
   "source": [
    "df_features_season = df_features_season.merge(num_win, on=['Season', 'TeamID'], how='left')\n",
    "df_features_season = df_features_season.merge(num_loss, on=['Season', 'TeamID'], how='left')\n",
    "df_features_season = df_features_season.merge(gap_win, on=['Season', 'TeamID'], how='left')\n",
    "df_features_season = df_features_season.merge(gap_loss, on=['Season', 'TeamID'], how='left')"
   ]
  },
  {
   "cell_type": "code",
   "execution_count": 14,
   "metadata": {
    "execution": {
     "iopub.execute_input": "2023-02-20T15:17:28.259737Z",
     "iopub.status.busy": "2023-02-20T15:17:28.259265Z",
     "iopub.status.idle": "2023-02-20T15:17:28.267142Z",
     "shell.execute_reply": "2023-02-20T15:17:28.265782Z",
     "shell.execute_reply.started": "2023-02-20T15:17:28.259698Z"
    },
    "papermill": {
     "duration": 0.084708,
     "end_time": "2022-02-25T19:24:47.795526",
     "exception": false,
     "start_time": "2022-02-25T19:24:47.710818",
     "status": "completed"
    },
    "tags": []
   },
   "outputs": [],
   "source": [
    "df_features_season.fillna(0, inplace=True)  "
   ]
  },
  {
   "cell_type": "markdown",
   "metadata": {
    "papermill": {
     "duration": 0.077625,
     "end_time": "2022-02-25T19:24:47.950152",
     "exception": false,
     "start_time": "2022-02-25T19:24:47.872527",
     "status": "completed"
    },
    "tags": []
   },
   "source": [
    "Compute features"
   ]
  },
  {
   "cell_type": "code",
   "execution_count": 15,
   "metadata": {
    "execution": {
     "iopub.execute_input": "2023-02-20T15:17:28.269702Z",
     "iopub.status.busy": "2023-02-20T15:17:28.268621Z",
     "iopub.status.idle": "2023-02-20T15:17:28.284226Z",
     "shell.execute_reply": "2023-02-20T15:17:28.282835Z",
     "shell.execute_reply.started": "2023-02-20T15:17:28.269651Z"
    },
    "papermill": {
     "duration": 0.088655,
     "end_time": "2022-02-25T19:24:48.11631",
     "exception": false,
     "start_time": "2022-02-25T19:24:48.027655",
     "status": "completed"
    },
    "tags": []
   },
   "outputs": [],
   "source": [
    "df_features_season['WinRatio'] = df_features_season['NumWins'] / (df_features_season['NumWins'] + df_features_season['NumLosses'])\n",
    "df_features_season['GapAvg'] = (\n",
    "    (df_features_season['NumWins'] * df_features_season['GapWins'] - \n",
    "    df_features_season['NumLosses'] * df_features_season['GapLosses'])\n",
    "    / (df_features_season['NumWins'] + df_features_season['NumLosses'])\n",
    ")"
   ]
  },
  {
   "cell_type": "code",
   "execution_count": 16,
   "metadata": {
    "execution": {
     "iopub.execute_input": "2023-02-20T15:17:28.285662Z",
     "iopub.status.busy": "2023-02-20T15:17:28.285233Z",
     "iopub.status.idle": "2023-02-20T15:17:28.293801Z",
     "shell.execute_reply": "2023-02-20T15:17:28.292405Z",
     "shell.execute_reply.started": "2023-02-20T15:17:28.285627Z"
    },
    "papermill": {
     "duration": 0.086904,
     "end_time": "2022-02-25T19:24:48.282185",
     "exception": false,
     "start_time": "2022-02-25T19:24:48.195281",
     "status": "completed"
    },
    "tags": []
   },
   "outputs": [],
   "source": [
    "df_features_season.drop(['NumWins', 'NumLosses', 'GapWins', 'GapLosses'], axis=1, inplace=True)"
   ]
  },
  {
   "cell_type": "markdown",
   "metadata": {
    "papermill": {
     "duration": 0.076423,
     "end_time": "2022-02-25T19:24:48.436466",
     "exception": false,
     "start_time": "2022-02-25T19:24:48.360043",
     "status": "completed"
    },
    "tags": []
   },
   "source": [
    "## Tourney results\n",
    "\n",
    "> This file identifies the game-by-game NCAA® tournament results for all seasons of historical data. The data is formatted exactly like the MRegularSeasonCompactResults data. All games will show up as neutral site (so WLoc is always N). Note that this tournament game data also includes the play-in games (which always occurred on day 134/135) for those years that had play-in games. Thus each season you will see between 63 and 67 games listed, depending on how many play-in games there were."
   ]
  },
  {
   "cell_type": "code",
   "execution_count": 17,
   "metadata": {
    "execution": {
     "iopub.execute_input": "2023-02-20T15:17:28.296526Z",
     "iopub.status.busy": "2023-02-20T15:17:28.295754Z",
     "iopub.status.idle": "2023-02-20T15:17:28.336882Z",
     "shell.execute_reply": "2023-02-20T15:17:28.335434Z",
     "shell.execute_reply.started": "2023-02-20T15:17:28.296477Z"
    },
    "papermill": {
     "duration": 0.091465,
     "end_time": "2022-02-25T19:24:48.604278",
     "exception": false,
     "start_time": "2022-02-25T19:24:48.512813",
     "status": "completed"
    },
    "tags": []
   },
   "outputs": [],
   "source": [
    "df_tourney_results = pd.concat([\n",
    "    pd.read_csv(DATA_PATH + \"WNCAATourneyCompactResults.csv\"),\n",
    "    pd.read_csv(DATA_PATH + \"MNCAATourneyCompactResults.csv\"),\n",
    "], ignore_index=True)\n",
    "df_tourney_results.drop(['NumOT', 'WLoc'], axis=1, inplace=True)"
   ]
  },
  {
   "cell_type": "markdown",
   "metadata": {
    "papermill": {
     "duration": 0.075937,
     "end_time": "2022-02-25T19:24:48.75476",
     "exception": false,
     "start_time": "2022-02-25T19:24:48.678823",
     "status": "completed"
    },
    "tags": []
   },
   "source": [
    "## FiveThirtyEight Ratings\n",
    "> Not available yet !"
   ]
  },
  {
   "cell_type": "code",
   "execution_count": 18,
   "metadata": {
    "execution": {
     "iopub.execute_input": "2023-02-20T15:17:28.338707Z",
     "iopub.status.busy": "2023-02-20T15:17:28.338335Z",
     "iopub.status.idle": "2023-02-20T15:17:28.344330Z",
     "shell.execute_reply": "2023-02-20T15:17:28.343067Z",
     "shell.execute_reply.started": "2023-02-20T15:17:28.338675Z"
    },
    "papermill": {
     "duration": 0.100045,
     "end_time": "2022-02-25T19:24:48.93055",
     "exception": false,
     "start_time": "2022-02-25T19:24:48.830505",
     "status": "completed"
    },
    "tags": []
   },
   "outputs": [],
   "source": [
    "# df_538 = pd.read_csv(\"../input/ncaa-men-538-team-ratings/538ratingsMen.csv\")\n",
    "# df_538.drop('TeamName', axis=1, inplace=True)\n",
    "# df_538.head()"
   ]
  },
  {
   "cell_type": "markdown",
   "metadata": {
    "papermill": {
     "duration": 0.077468,
     "end_time": "2022-02-25T19:24:49.086308",
     "exception": false,
     "start_time": "2022-02-25T19:24:49.00884",
     "status": "completed"
    },
    "tags": []
   },
   "source": [
    "# Feature Engineering"
   ]
  },
  {
   "cell_type": "markdown",
   "metadata": {
    "papermill": {
     "duration": 0.075714,
     "end_time": "2022-02-25T19:24:49.241148",
     "exception": false,
     "start_time": "2022-02-25T19:24:49.165434",
     "status": "completed"
    },
    "tags": []
   },
   "source": [
    "## Train data"
   ]
  },
  {
   "cell_type": "code",
   "execution_count": 19,
   "metadata": {
    "execution": {
     "iopub.execute_input": "2023-02-20T15:17:28.346820Z",
     "iopub.status.busy": "2023-02-20T15:17:28.346096Z",
     "iopub.status.idle": "2023-02-20T15:17:28.367701Z",
     "shell.execute_reply": "2023-02-20T15:17:28.366249Z",
     "shell.execute_reply.started": "2023-02-20T15:17:28.346775Z"
    },
    "papermill": {
     "duration": 0.090144,
     "end_time": "2022-02-25T19:24:49.409149",
     "exception": false,
     "start_time": "2022-02-25T19:24:49.319005",
     "status": "completed"
    },
    "tags": []
   },
   "outputs": [
    {
     "data": {
      "text/html": [
       "<div>\n",
       "<style scoped>\n",
       "    .dataframe tbody tr th:only-of-type {\n",
       "        vertical-align: middle;\n",
       "    }\n",
       "\n",
       "    .dataframe tbody tr th {\n",
       "        vertical-align: top;\n",
       "    }\n",
       "\n",
       "    .dataframe thead th {\n",
       "        text-align: right;\n",
       "    }\n",
       "</style>\n",
       "<table border=\"1\" class=\"dataframe\">\n",
       "  <thead>\n",
       "    <tr style=\"text-align: right;\">\n",
       "      <th></th>\n",
       "      <th>Season</th>\n",
       "      <th>DayNum</th>\n",
       "      <th>WTeamID</th>\n",
       "      <th>WScore</th>\n",
       "      <th>LTeamID</th>\n",
       "      <th>LScore</th>\n",
       "    </tr>\n",
       "  </thead>\n",
       "  <tbody>\n",
       "    <tr>\n",
       "      <th>0</th>\n",
       "      <td>2016</td>\n",
       "      <td>137</td>\n",
       "      <td>3107</td>\n",
       "      <td>61</td>\n",
       "      <td>3196</td>\n",
       "      <td>59</td>\n",
       "    </tr>\n",
       "    <tr>\n",
       "      <th>1</th>\n",
       "      <td>2016</td>\n",
       "      <td>137</td>\n",
       "      <td>3113</td>\n",
       "      <td>74</td>\n",
       "      <td>3308</td>\n",
       "      <td>52</td>\n",
       "    </tr>\n",
       "    <tr>\n",
       "      <th>2</th>\n",
       "      <td>2016</td>\n",
       "      <td>137</td>\n",
       "      <td>3120</td>\n",
       "      <td>68</td>\n",
       "      <td>3385</td>\n",
       "      <td>57</td>\n",
       "    </tr>\n",
       "    <tr>\n",
       "      <th>3</th>\n",
       "      <td>2016</td>\n",
       "      <td>137</td>\n",
       "      <td>3124</td>\n",
       "      <td>89</td>\n",
       "      <td>3225</td>\n",
       "      <td>59</td>\n",
       "    </tr>\n",
       "    <tr>\n",
       "      <th>4</th>\n",
       "      <td>2016</td>\n",
       "      <td>137</td>\n",
       "      <td>3177</td>\n",
       "      <td>97</td>\n",
       "      <td>3241</td>\n",
       "      <td>67</td>\n",
       "    </tr>\n",
       "  </tbody>\n",
       "</table>\n",
       "</div>"
      ],
      "text/plain": [
       "   Season  DayNum  WTeamID  WScore  LTeamID  LScore\n",
       "0    2016     137     3107      61     3196      59\n",
       "1    2016     137     3113      74     3308      52\n",
       "2    2016     137     3120      68     3385      57\n",
       "3    2016     137     3124      89     3225      59\n",
       "4    2016     137     3177      97     3241      67"
      ]
     },
     "execution_count": 19,
     "metadata": {},
     "output_type": "execute_result"
    }
   ],
   "source": [
    "df = df_tourney_results.copy()\n",
    "df = df[df['Season'] >= 2016].reset_index(drop=True)\n",
    "\n",
    "df.head()"
   ]
  },
  {
   "cell_type": "markdown",
   "metadata": {
    "papermill": {
     "duration": 0.077685,
     "end_time": "2022-02-25T19:24:49.564605",
     "exception": false,
     "start_time": "2022-02-25T19:24:49.48692",
     "status": "completed"
    },
    "tags": []
   },
   "source": [
    "### Seeds\n",
    "- `SeedW` is the seed of the winning team\n",
    "- `SeedL` is the seed of the losing team"
   ]
  },
  {
   "cell_type": "code",
   "execution_count": 20,
   "metadata": {
    "execution": {
     "iopub.execute_input": "2023-02-20T15:17:28.370546Z",
     "iopub.status.busy": "2023-02-20T15:17:28.369623Z",
     "iopub.status.idle": "2023-02-20T15:17:28.384742Z",
     "shell.execute_reply": "2023-02-20T15:17:28.383488Z",
     "shell.execute_reply.started": "2023-02-20T15:17:28.370491Z"
    },
    "papermill": {
     "duration": 0.091087,
     "end_time": "2022-02-25T19:24:49.733599",
     "exception": false,
     "start_time": "2022-02-25T19:24:49.642512",
     "status": "completed"
    },
    "tags": []
   },
   "outputs": [],
   "source": [
    "df = pd.merge(\n",
    "    df, \n",
    "    df_seeds, \n",
    "    how='left', \n",
    "    left_on=['Season', 'WTeamID'], \n",
    "    right_on=['Season', 'TeamID']\n",
    ").drop('TeamID', axis=1).rename(columns={'Seed': 'SeedW'})"
   ]
  },
  {
   "cell_type": "code",
   "execution_count": 21,
   "metadata": {
    "execution": {
     "iopub.execute_input": "2023-02-20T15:17:28.387242Z",
     "iopub.status.busy": "2023-02-20T15:17:28.386249Z",
     "iopub.status.idle": "2023-02-20T15:17:28.404873Z",
     "shell.execute_reply": "2023-02-20T15:17:28.403401Z",
     "shell.execute_reply.started": "2023-02-20T15:17:28.387196Z"
    },
    "papermill": {
     "duration": 0.0925,
     "end_time": "2022-02-25T19:24:49.905108",
     "exception": false,
     "start_time": "2022-02-25T19:24:49.812608",
     "status": "completed"
    },
    "tags": []
   },
   "outputs": [],
   "source": [
    "df = pd.merge(\n",
    "    df, \n",
    "    df_seeds, \n",
    "    how='left', \n",
    "    left_on=['Season', 'LTeamID'], \n",
    "    right_on=['Season', 'TeamID']\n",
    ").drop('TeamID', axis=1).rename(columns={'Seed': 'SeedL'})"
   ]
  },
  {
   "cell_type": "code",
   "execution_count": 22,
   "metadata": {
    "execution": {
     "iopub.execute_input": "2023-02-20T15:17:28.407698Z",
     "iopub.status.busy": "2023-02-20T15:17:28.406822Z",
     "iopub.status.idle": "2023-02-20T15:17:28.413841Z",
     "shell.execute_reply": "2023-02-20T15:17:28.412396Z",
     "shell.execute_reply.started": "2023-02-20T15:17:28.407631Z"
    },
    "papermill": {
     "duration": 0.085338,
     "end_time": "2022-02-25T19:24:50.068822",
     "exception": false,
     "start_time": "2022-02-25T19:24:49.983484",
     "status": "completed"
    },
    "tags": []
   },
   "outputs": [],
   "source": [
    "def treat_seed(seed):\n",
    "    return int(re.sub(\"[^0-9]\", \"\", seed))"
   ]
  },
  {
   "cell_type": "code",
   "execution_count": 23,
   "metadata": {
    "execution": {
     "iopub.execute_input": "2023-02-20T15:17:28.416647Z",
     "iopub.status.busy": "2023-02-20T15:17:28.416129Z",
     "iopub.status.idle": "2023-02-20T15:17:28.434489Z",
     "shell.execute_reply": "2023-02-20T15:17:28.433060Z",
     "shell.execute_reply.started": "2023-02-20T15:17:28.416589Z"
    },
    "papermill": {
     "duration": 0.08807,
     "end_time": "2022-02-25T19:24:50.235147",
     "exception": false,
     "start_time": "2022-02-25T19:24:50.147077",
     "status": "completed"
    },
    "tags": []
   },
   "outputs": [],
   "source": [
    "df['SeedW'] = df['SeedW'].apply(treat_seed)\n",
    "df['SeedL'] = df['SeedL'].apply(treat_seed)"
   ]
  },
  {
   "cell_type": "code",
   "execution_count": 24,
   "metadata": {
    "execution": {
     "iopub.execute_input": "2023-02-20T15:17:28.436610Z",
     "iopub.status.busy": "2023-02-20T15:17:28.436144Z",
     "iopub.status.idle": "2023-02-20T15:17:28.455739Z",
     "shell.execute_reply": "2023-02-20T15:17:28.454479Z",
     "shell.execute_reply.started": "2023-02-20T15:17:28.436554Z"
    },
    "papermill": {
     "duration": 0.08983,
     "end_time": "2022-02-25T19:24:50.402607",
     "exception": false,
     "start_time": "2022-02-25T19:24:50.312777",
     "status": "completed"
    },
    "tags": []
   },
   "outputs": [
    {
     "data": {
      "text/html": [
       "<div>\n",
       "<style scoped>\n",
       "    .dataframe tbody tr th:only-of-type {\n",
       "        vertical-align: middle;\n",
       "    }\n",
       "\n",
       "    .dataframe tbody tr th {\n",
       "        vertical-align: top;\n",
       "    }\n",
       "\n",
       "    .dataframe thead th {\n",
       "        text-align: right;\n",
       "    }\n",
       "</style>\n",
       "<table border=\"1\" class=\"dataframe\">\n",
       "  <thead>\n",
       "    <tr style=\"text-align: right;\">\n",
       "      <th></th>\n",
       "      <th>Season</th>\n",
       "      <th>DayNum</th>\n",
       "      <th>WTeamID</th>\n",
       "      <th>WScore</th>\n",
       "      <th>LTeamID</th>\n",
       "      <th>LScore</th>\n",
       "      <th>SeedW</th>\n",
       "      <th>SeedL</th>\n",
       "    </tr>\n",
       "  </thead>\n",
       "  <tbody>\n",
       "    <tr>\n",
       "      <th>0</th>\n",
       "      <td>2016</td>\n",
       "      <td>137</td>\n",
       "      <td>3107</td>\n",
       "      <td>61</td>\n",
       "      <td>3196</td>\n",
       "      <td>59</td>\n",
       "      <td>12</td>\n",
       "      <td>5</td>\n",
       "    </tr>\n",
       "    <tr>\n",
       "      <th>1</th>\n",
       "      <td>2016</td>\n",
       "      <td>137</td>\n",
       "      <td>3113</td>\n",
       "      <td>74</td>\n",
       "      <td>3308</td>\n",
       "      <td>52</td>\n",
       "      <td>2</td>\n",
       "      <td>15</td>\n",
       "    </tr>\n",
       "    <tr>\n",
       "      <th>2</th>\n",
       "      <td>2016</td>\n",
       "      <td>137</td>\n",
       "      <td>3120</td>\n",
       "      <td>68</td>\n",
       "      <td>3385</td>\n",
       "      <td>57</td>\n",
       "      <td>9</td>\n",
       "      <td>8</td>\n",
       "    </tr>\n",
       "    <tr>\n",
       "      <th>3</th>\n",
       "      <td>2016</td>\n",
       "      <td>137</td>\n",
       "      <td>3124</td>\n",
       "      <td>89</td>\n",
       "      <td>3225</td>\n",
       "      <td>59</td>\n",
       "      <td>1</td>\n",
       "      <td>16</td>\n",
       "    </tr>\n",
       "    <tr>\n",
       "      <th>4</th>\n",
       "      <td>2016</td>\n",
       "      <td>137</td>\n",
       "      <td>3177</td>\n",
       "      <td>97</td>\n",
       "      <td>3241</td>\n",
       "      <td>67</td>\n",
       "      <td>6</td>\n",
       "      <td>11</td>\n",
       "    </tr>\n",
       "  </tbody>\n",
       "</table>\n",
       "</div>"
      ],
      "text/plain": [
       "   Season  DayNum  WTeamID  WScore  LTeamID  LScore  SeedW  SeedL\n",
       "0    2016     137     3107      61     3196      59     12      5\n",
       "1    2016     137     3113      74     3308      52      2     15\n",
       "2    2016     137     3120      68     3385      57      9      8\n",
       "3    2016     137     3124      89     3225      59      1     16\n",
       "4    2016     137     3177      97     3241      67      6     11"
      ]
     },
     "execution_count": 24,
     "metadata": {},
     "output_type": "execute_result"
    }
   ],
   "source": [
    "df.head()"
   ]
  },
  {
   "cell_type": "markdown",
   "metadata": {
    "papermill": {
     "duration": 0.077172,
     "end_time": "2022-02-25T19:24:50.559019",
     "exception": false,
     "start_time": "2022-02-25T19:24:50.481847",
     "status": "completed"
    },
    "tags": []
   },
   "source": [
    "### Season Stats\n",
    "- `WinRatioW` is the win ratio of the winning team during the season\n",
    "- `WinRatioL` is the win ratio of the losing team during the season"
   ]
  },
  {
   "cell_type": "code",
   "execution_count": 25,
   "metadata": {
    "execution": {
     "iopub.execute_input": "2023-02-20T15:17:28.457712Z",
     "iopub.status.busy": "2023-02-20T15:17:28.457105Z",
     "iopub.status.idle": "2023-02-20T15:17:28.474575Z",
     "shell.execute_reply": "2023-02-20T15:17:28.472974Z",
     "shell.execute_reply.started": "2023-02-20T15:17:28.457678Z"
    },
    "papermill": {
     "duration": 0.09296,
     "end_time": "2022-02-25T19:24:50.729911",
     "exception": false,
     "start_time": "2022-02-25T19:24:50.636951",
     "status": "completed"
    },
    "tags": []
   },
   "outputs": [],
   "source": [
    "df = pd.merge(\n",
    "    df,\n",
    "    df_features_season,\n",
    "    how='left',\n",
    "    left_on=['Season', 'WTeamID'],\n",
    "    right_on=['Season', 'TeamID']\n",
    ").rename(columns={\n",
    "    'NumWins': 'NumWinsW',\n",
    "    'NumLosses': 'NumLossesW',\n",
    "    'GapWins': 'GapWinsW',\n",
    "    'GapLosses': 'GapLossesW',\n",
    "    'WinRatio': 'WinRatioW',\n",
    "    'GapAvg': 'GapAvgW',\n",
    "}).drop(columns='TeamID', axis=1)"
   ]
  },
  {
   "cell_type": "code",
   "execution_count": 26,
   "metadata": {
    "execution": {
     "iopub.execute_input": "2023-02-20T15:17:28.476587Z",
     "iopub.status.busy": "2023-02-20T15:17:28.476205Z",
     "iopub.status.idle": "2023-02-20T15:17:28.494535Z",
     "shell.execute_reply": "2023-02-20T15:17:28.493192Z",
     "shell.execute_reply.started": "2023-02-20T15:17:28.476553Z"
    },
    "papermill": {
     "duration": 0.088831,
     "end_time": "2022-02-25T19:24:50.896663",
     "exception": false,
     "start_time": "2022-02-25T19:24:50.807832",
     "status": "completed"
    },
    "tags": []
   },
   "outputs": [],
   "source": [
    "df = pd.merge(\n",
    "    df,\n",
    "    df_features_season,\n",
    "    how='left',\n",
    "    left_on=['Season', 'LTeamID'],\n",
    "    right_on=['Season', 'TeamID']\n",
    ").rename(columns={\n",
    "    'NumWins': 'NumWinsL',\n",
    "    'NumLosses': 'NumLossesL',\n",
    "    'GapWins': 'GapWinsL',\n",
    "    'GapLosses': 'GapLossesL',\n",
    "    'WinRatio': 'WinRatioL',\n",
    "    'GapAvg': 'GapAvgL',\n",
    "}).drop(columns='TeamID', axis=1)"
   ]
  },
  {
   "cell_type": "code",
   "execution_count": 27,
   "metadata": {
    "execution": {
     "iopub.execute_input": "2023-02-20T15:17:28.496943Z",
     "iopub.status.busy": "2023-02-20T15:17:28.496454Z",
     "iopub.status.idle": "2023-02-20T15:17:28.521452Z",
     "shell.execute_reply": "2023-02-20T15:17:28.520123Z",
     "shell.execute_reply.started": "2023-02-20T15:17:28.496892Z"
    },
    "papermill": {
     "duration": 0.097114,
     "end_time": "2022-02-25T19:24:51.072707",
     "exception": false,
     "start_time": "2022-02-25T19:24:50.975593",
     "status": "completed"
    },
    "tags": []
   },
   "outputs": [
    {
     "data": {
      "text/html": [
       "<div>\n",
       "<style scoped>\n",
       "    .dataframe tbody tr th:only-of-type {\n",
       "        vertical-align: middle;\n",
       "    }\n",
       "\n",
       "    .dataframe tbody tr th {\n",
       "        vertical-align: top;\n",
       "    }\n",
       "\n",
       "    .dataframe thead th {\n",
       "        text-align: right;\n",
       "    }\n",
       "</style>\n",
       "<table border=\"1\" class=\"dataframe\">\n",
       "  <thead>\n",
       "    <tr style=\"text-align: right;\">\n",
       "      <th></th>\n",
       "      <th>Season</th>\n",
       "      <th>DayNum</th>\n",
       "      <th>WTeamID</th>\n",
       "      <th>WScore</th>\n",
       "      <th>LTeamID</th>\n",
       "      <th>LScore</th>\n",
       "      <th>SeedW</th>\n",
       "      <th>SeedL</th>\n",
       "      <th>WinRatioW</th>\n",
       "      <th>GapAvgW</th>\n",
       "      <th>WinRatioL</th>\n",
       "      <th>GapAvgL</th>\n",
       "    </tr>\n",
       "  </thead>\n",
       "  <tbody>\n",
       "    <tr>\n",
       "      <th>0</th>\n",
       "      <td>2016</td>\n",
       "      <td>137</td>\n",
       "      <td>3107</td>\n",
       "      <td>61</td>\n",
       "      <td>3196</td>\n",
       "      <td>59</td>\n",
       "      <td>12</td>\n",
       "      <td>5</td>\n",
       "      <td>0.870968</td>\n",
       "      <td>18.677419</td>\n",
       "      <td>0.733333</td>\n",
       "      <td>8.700000</td>\n",
       "    </tr>\n",
       "    <tr>\n",
       "      <th>1</th>\n",
       "      <td>2016</td>\n",
       "      <td>137</td>\n",
       "      <td>3113</td>\n",
       "      <td>74</td>\n",
       "      <td>3308</td>\n",
       "      <td>52</td>\n",
       "      <td>2</td>\n",
       "      <td>15</td>\n",
       "      <td>0.806452</td>\n",
       "      <td>9.258065</td>\n",
       "      <td>0.857143</td>\n",
       "      <td>8.964286</td>\n",
       "    </tr>\n",
       "    <tr>\n",
       "      <th>2</th>\n",
       "      <td>2016</td>\n",
       "      <td>137</td>\n",
       "      <td>3120</td>\n",
       "      <td>68</td>\n",
       "      <td>3385</td>\n",
       "      <td>57</td>\n",
       "      <td>9</td>\n",
       "      <td>8</td>\n",
       "      <td>0.612903</td>\n",
       "      <td>3.032258</td>\n",
       "      <td>0.718750</td>\n",
       "      <td>6.812500</td>\n",
       "    </tr>\n",
       "    <tr>\n",
       "      <th>3</th>\n",
       "      <td>2016</td>\n",
       "      <td>137</td>\n",
       "      <td>3124</td>\n",
       "      <td>89</td>\n",
       "      <td>3225</td>\n",
       "      <td>59</td>\n",
       "      <td>1</td>\n",
       "      <td>16</td>\n",
       "      <td>0.970588</td>\n",
       "      <td>24.617647</td>\n",
       "      <td>0.709677</td>\n",
       "      <td>10.612903</td>\n",
       "    </tr>\n",
       "    <tr>\n",
       "      <th>4</th>\n",
       "      <td>2016</td>\n",
       "      <td>137</td>\n",
       "      <td>3177</td>\n",
       "      <td>97</td>\n",
       "      <td>3241</td>\n",
       "      <td>67</td>\n",
       "      <td>6</td>\n",
       "      <td>11</td>\n",
       "      <td>0.757576</td>\n",
       "      <td>16.272727</td>\n",
       "      <td>0.843750</td>\n",
       "      <td>15.406250</td>\n",
       "    </tr>\n",
       "  </tbody>\n",
       "</table>\n",
       "</div>"
      ],
      "text/plain": [
       "   Season  DayNum  WTeamID  WScore  LTeamID  LScore  SeedW  SeedL  WinRatioW  \\\n",
       "0    2016     137     3107      61     3196      59     12      5   0.870968   \n",
       "1    2016     137     3113      74     3308      52      2     15   0.806452   \n",
       "2    2016     137     3120      68     3385      57      9      8   0.612903   \n",
       "3    2016     137     3124      89     3225      59      1     16   0.970588   \n",
       "4    2016     137     3177      97     3241      67      6     11   0.757576   \n",
       "\n",
       "     GapAvgW  WinRatioL    GapAvgL  \n",
       "0  18.677419   0.733333   8.700000  \n",
       "1   9.258065   0.857143   8.964286  \n",
       "2   3.032258   0.718750   6.812500  \n",
       "3  24.617647   0.709677  10.612903  \n",
       "4  16.272727   0.843750  15.406250  "
      ]
     },
     "execution_count": 27,
     "metadata": {},
     "output_type": "execute_result"
    }
   ],
   "source": [
    "df.head()"
   ]
  },
  {
   "cell_type": "markdown",
   "metadata": {
    "papermill": {
     "duration": 0.077761,
     "end_time": "2022-02-25T19:24:51.230059",
     "exception": false,
     "start_time": "2022-02-25T19:24:51.152298",
     "status": "completed"
    },
    "tags": []
   },
   "source": [
    "### FiveThirtyEight Ratings\n",
    "- `538ratingW` is the rating of the winning team during the season\n",
    "- `538ratingL` is the rating of the losing team during the season"
   ]
  },
  {
   "cell_type": "code",
   "execution_count": 28,
   "metadata": {
    "execution": {
     "iopub.execute_input": "2023-02-20T15:17:28.534446Z",
     "iopub.status.busy": "2023-02-20T15:17:28.533190Z",
     "iopub.status.idle": "2023-02-20T15:17:28.539972Z",
     "shell.execute_reply": "2023-02-20T15:17:28.538692Z",
     "shell.execute_reply.started": "2023-02-20T15:17:28.534385Z"
    },
    "papermill": {
     "duration": 0.090579,
     "end_time": "2022-02-25T19:24:51.400091",
     "exception": false,
     "start_time": "2022-02-25T19:24:51.309512",
     "status": "completed"
    },
    "tags": []
   },
   "outputs": [],
   "source": [
    "# df = pd.merge(\n",
    "#     df,\n",
    "#     df_538,\n",
    "#     how='left',\n",
    "#     left_on=['Season', 'WTeamID'],\n",
    "#     right_on=['Season', 'TeamID']\n",
    "# ).drop('TeamID', axis=1).rename(columns={'538rating': '538ratingW'})"
   ]
  },
  {
   "cell_type": "code",
   "execution_count": 29,
   "metadata": {
    "execution": {
     "iopub.execute_input": "2023-02-20T15:17:28.542510Z",
     "iopub.status.busy": "2023-02-20T15:17:28.541988Z",
     "iopub.status.idle": "2023-02-20T15:17:28.551614Z",
     "shell.execute_reply": "2023-02-20T15:17:28.550392Z",
     "shell.execute_reply.started": "2023-02-20T15:17:28.542458Z"
    },
    "papermill": {
     "duration": 0.091726,
     "end_time": "2022-02-25T19:24:51.571706",
     "exception": false,
     "start_time": "2022-02-25T19:24:51.47998",
     "status": "completed"
    },
    "tags": []
   },
   "outputs": [],
   "source": [
    "# df = pd.merge(\n",
    "#     df, \n",
    "#     df_538, \n",
    "#     how='left', \n",
    "#     left_on=['Season', 'LTeamID'], \n",
    "#     right_on=['Season', 'TeamID']\n",
    "# ).drop('TeamID', axis=1).rename(columns={'538rating': '538ratingL'})"
   ]
  },
  {
   "cell_type": "code",
   "execution_count": 30,
   "metadata": {
    "execution": {
     "iopub.execute_input": "2023-02-20T15:17:28.554589Z",
     "iopub.status.busy": "2023-02-20T15:17:28.553247Z",
     "iopub.status.idle": "2023-02-20T15:17:28.562393Z",
     "shell.execute_reply": "2023-02-20T15:17:28.561494Z",
     "shell.execute_reply.started": "2023-02-20T15:17:28.554540Z"
    },
    "papermill": {
     "duration": 0.101694,
     "end_time": "2022-02-25T19:24:51.752484",
     "exception": false,
     "start_time": "2022-02-25T19:24:51.65079",
     "status": "completed"
    },
    "tags": []
   },
   "outputs": [],
   "source": [
    "# df.head()"
   ]
  },
  {
   "cell_type": "markdown",
   "metadata": {
    "papermill": {
     "duration": 0.077948,
     "end_time": "2022-02-25T19:24:51.910157",
     "exception": false,
     "start_time": "2022-02-25T19:24:51.832209",
     "status": "completed"
    },
    "tags": []
   },
   "source": [
    "### Add symetrical\n",
    "- Right now our data only consists of won matches\n",
    "- We duplicate our data, get rid of the winner loser "
   ]
  },
  {
   "cell_type": "code",
   "execution_count": 31,
   "metadata": {
    "execution": {
     "iopub.execute_input": "2023-02-20T15:17:28.564904Z",
     "iopub.status.busy": "2023-02-20T15:17:28.564135Z",
     "iopub.status.idle": "2023-02-20T15:17:28.576167Z",
     "shell.execute_reply": "2023-02-20T15:17:28.575310Z",
     "shell.execute_reply.started": "2023-02-20T15:17:28.564855Z"
    },
    "papermill": {
     "duration": 0.092113,
     "end_time": "2022-02-25T19:24:52.081211",
     "exception": false,
     "start_time": "2022-02-25T19:24:51.989098",
     "status": "completed"
    },
    "tags": []
   },
   "outputs": [],
   "source": [
    "def add_loosing_matches(df):\n",
    "    win_rename = {\n",
    "        \"WTeamID\": \"TeamIdA\", \n",
    "        \"WScore\" : \"ScoreA\", \n",
    "        \"LTeamID\" : \"TeamIdB\",\n",
    "        \"LScore\": \"ScoreB\",\n",
    "     }\n",
    "    win_rename.update({c : c[:-1] + \"A\" for c in df.columns if c.endswith('W')})\n",
    "    win_rename.update({c : c[:-1] + \"B\" for c in df.columns if c.endswith('L')})\n",
    "    \n",
    "    lose_rename = {\n",
    "        \"WTeamID\": \"TeamIdB\", \n",
    "        \"WScore\" : \"ScoreB\", \n",
    "        \"LTeamID\" : \"TeamIdA\",\n",
    "        \"LScore\": \"ScoreA\",\n",
    "    }\n",
    "    lose_rename.update({c : c[:-1] + \"B\" for c in df.columns if c.endswith('W')})\n",
    "    lose_rename.update({c : c[:-1] + \"A\" for c in df.columns if c.endswith('L')})\n",
    "    \n",
    "    win_df = df.copy()\n",
    "    lose_df = df.copy()\n",
    "    \n",
    "    win_df = win_df.rename(columns=win_rename)\n",
    "    lose_df = lose_df.rename(columns=lose_rename)\n",
    "    \n",
    "    return pd.concat([win_df, lose_df], axis=0, sort=False)"
   ]
  },
  {
   "cell_type": "code",
   "execution_count": 32,
   "metadata": {
    "execution": {
     "iopub.execute_input": "2023-02-20T15:17:28.578634Z",
     "iopub.status.busy": "2023-02-20T15:17:28.577856Z",
     "iopub.status.idle": "2023-02-20T15:17:28.595265Z",
     "shell.execute_reply": "2023-02-20T15:17:28.594327Z",
     "shell.execute_reply.started": "2023-02-20T15:17:28.578588Z"
    },
    "papermill": {
     "duration": 0.08852,
     "end_time": "2022-02-25T19:24:52.250164",
     "exception": false,
     "start_time": "2022-02-25T19:24:52.161644",
     "status": "completed"
    },
    "tags": []
   },
   "outputs": [],
   "source": [
    "df = add_loosing_matches(df)"
   ]
  },
  {
   "cell_type": "code",
   "execution_count": 33,
   "metadata": {
    "execution": {
     "iopub.execute_input": "2023-02-20T15:17:28.597952Z",
     "iopub.status.busy": "2023-02-20T15:17:28.597071Z",
     "iopub.status.idle": "2023-02-20T15:17:28.616741Z",
     "shell.execute_reply": "2023-02-20T15:17:28.615574Z",
     "shell.execute_reply.started": "2023-02-20T15:17:28.597905Z"
    },
    "papermill": {
     "duration": 0.100334,
     "end_time": "2022-02-25T19:24:52.429251",
     "exception": false,
     "start_time": "2022-02-25T19:24:52.328917",
     "status": "completed"
    },
    "tags": []
   },
   "outputs": [
    {
     "data": {
      "text/html": [
       "<div>\n",
       "<style scoped>\n",
       "    .dataframe tbody tr th:only-of-type {\n",
       "        vertical-align: middle;\n",
       "    }\n",
       "\n",
       "    .dataframe tbody tr th {\n",
       "        vertical-align: top;\n",
       "    }\n",
       "\n",
       "    .dataframe thead th {\n",
       "        text-align: right;\n",
       "    }\n",
       "</style>\n",
       "<table border=\"1\" class=\"dataframe\">\n",
       "  <thead>\n",
       "    <tr style=\"text-align: right;\">\n",
       "      <th></th>\n",
       "      <th>Season</th>\n",
       "      <th>DayNum</th>\n",
       "      <th>TeamIdA</th>\n",
       "      <th>ScoreA</th>\n",
       "      <th>TeamIdB</th>\n",
       "      <th>ScoreB</th>\n",
       "      <th>SeedA</th>\n",
       "      <th>SeedB</th>\n",
       "      <th>WinRatioA</th>\n",
       "      <th>GapAvgA</th>\n",
       "      <th>WinRatioB</th>\n",
       "      <th>GapAvgB</th>\n",
       "    </tr>\n",
       "  </thead>\n",
       "  <tbody>\n",
       "    <tr>\n",
       "      <th>0</th>\n",
       "      <td>2016</td>\n",
       "      <td>137</td>\n",
       "      <td>3107</td>\n",
       "      <td>61</td>\n",
       "      <td>3196</td>\n",
       "      <td>59</td>\n",
       "      <td>12</td>\n",
       "      <td>5</td>\n",
       "      <td>0.870968</td>\n",
       "      <td>18.677419</td>\n",
       "      <td>0.733333</td>\n",
       "      <td>8.700000</td>\n",
       "    </tr>\n",
       "    <tr>\n",
       "      <th>1</th>\n",
       "      <td>2016</td>\n",
       "      <td>137</td>\n",
       "      <td>3113</td>\n",
       "      <td>74</td>\n",
       "      <td>3308</td>\n",
       "      <td>52</td>\n",
       "      <td>2</td>\n",
       "      <td>15</td>\n",
       "      <td>0.806452</td>\n",
       "      <td>9.258065</td>\n",
       "      <td>0.857143</td>\n",
       "      <td>8.964286</td>\n",
       "    </tr>\n",
       "    <tr>\n",
       "      <th>2</th>\n",
       "      <td>2016</td>\n",
       "      <td>137</td>\n",
       "      <td>3120</td>\n",
       "      <td>68</td>\n",
       "      <td>3385</td>\n",
       "      <td>57</td>\n",
       "      <td>9</td>\n",
       "      <td>8</td>\n",
       "      <td>0.612903</td>\n",
       "      <td>3.032258</td>\n",
       "      <td>0.718750</td>\n",
       "      <td>6.812500</td>\n",
       "    </tr>\n",
       "    <tr>\n",
       "      <th>3</th>\n",
       "      <td>2016</td>\n",
       "      <td>137</td>\n",
       "      <td>3124</td>\n",
       "      <td>89</td>\n",
       "      <td>3225</td>\n",
       "      <td>59</td>\n",
       "      <td>1</td>\n",
       "      <td>16</td>\n",
       "      <td>0.970588</td>\n",
       "      <td>24.617647</td>\n",
       "      <td>0.709677</td>\n",
       "      <td>10.612903</td>\n",
       "    </tr>\n",
       "    <tr>\n",
       "      <th>4</th>\n",
       "      <td>2016</td>\n",
       "      <td>137</td>\n",
       "      <td>3177</td>\n",
       "      <td>97</td>\n",
       "      <td>3241</td>\n",
       "      <td>67</td>\n",
       "      <td>6</td>\n",
       "      <td>11</td>\n",
       "      <td>0.757576</td>\n",
       "      <td>16.272727</td>\n",
       "      <td>0.843750</td>\n",
       "      <td>15.406250</td>\n",
       "    </tr>\n",
       "  </tbody>\n",
       "</table>\n",
       "</div>"
      ],
      "text/plain": [
       "   Season  DayNum  TeamIdA  ScoreA  TeamIdB  ScoreB  SeedA  SeedB  WinRatioA  \\\n",
       "0    2016     137     3107      61     3196      59     12      5   0.870968   \n",
       "1    2016     137     3113      74     3308      52      2     15   0.806452   \n",
       "2    2016     137     3120      68     3385      57      9      8   0.612903   \n",
       "3    2016     137     3124      89     3225      59      1     16   0.970588   \n",
       "4    2016     137     3177      97     3241      67      6     11   0.757576   \n",
       "\n",
       "     GapAvgA  WinRatioB    GapAvgB  \n",
       "0  18.677419   0.733333   8.700000  \n",
       "1   9.258065   0.857143   8.964286  \n",
       "2   3.032258   0.718750   6.812500  \n",
       "3  24.617647   0.709677  10.612903  \n",
       "4  16.272727   0.843750  15.406250  "
      ]
     },
     "execution_count": 33,
     "metadata": {},
     "output_type": "execute_result"
    }
   ],
   "source": [
    "df.head()"
   ]
  },
  {
   "cell_type": "markdown",
   "metadata": {
    "papermill": {
     "duration": 0.07929,
     "end_time": "2022-02-25T19:24:52.590038",
     "exception": false,
     "start_time": "2022-02-25T19:24:52.510748",
     "status": "completed"
    },
    "tags": []
   },
   "source": [
    "### Differences\n",
    "- We compute the difference between the team for each feature.\n",
    "- This helps further assessing how better (or worse) team A is from team B"
   ]
  },
  {
   "cell_type": "code",
   "execution_count": 34,
   "metadata": {
    "execution": {
     "iopub.execute_input": "2023-02-20T15:17:28.619209Z",
     "iopub.status.busy": "2023-02-20T15:17:28.618469Z",
     "iopub.status.idle": "2023-02-20T15:17:28.628246Z",
     "shell.execute_reply": "2023-02-20T15:17:28.627293Z",
     "shell.execute_reply.started": "2023-02-20T15:17:28.619161Z"
    },
    "papermill": {
     "duration": 0.091577,
     "end_time": "2022-02-25T19:24:52.762452",
     "exception": false,
     "start_time": "2022-02-25T19:24:52.670875",
     "status": "completed"
    },
    "tags": []
   },
   "outputs": [],
   "source": [
    "cols_to_diff = [\n",
    "    'Seed', 'WinRatio', 'GapAvg', # '538rating'\n",
    "]\n",
    "\n",
    "for col in cols_to_diff:\n",
    "    df[col + 'Diff'] = df[col + 'A'] - df[col + 'B']"
   ]
  },
  {
   "cell_type": "markdown",
   "metadata": {
    "papermill": {
     "duration": 0.081156,
     "end_time": "2022-02-25T19:24:52.923612",
     "exception": false,
     "start_time": "2022-02-25T19:24:52.842456",
     "status": "completed"
    },
    "tags": []
   },
   "source": [
    "## Test Data"
   ]
  },
  {
   "cell_type": "markdown",
   "metadata": {
    "papermill": {
     "duration": 0.082519,
     "end_time": "2022-02-25T19:24:53.088318",
     "exception": false,
     "start_time": "2022-02-25T19:24:53.005799",
     "status": "completed"
    },
    "tags": []
   },
   "source": [
    "### Preparing"
   ]
  },
  {
   "cell_type": "code",
   "execution_count": 35,
   "metadata": {
    "execution": {
     "iopub.execute_input": "2023-02-20T15:17:28.630922Z",
     "iopub.status.busy": "2023-02-20T15:17:28.629996Z",
     "iopub.status.idle": "2023-02-20T15:17:28.742012Z",
     "shell.execute_reply": "2023-02-20T15:17:28.741086Z",
     "shell.execute_reply.started": "2023-02-20T15:17:28.630712Z"
    },
    "papermill": {
     "duration": 0.104781,
     "end_time": "2022-02-25T19:24:53.275687",
     "exception": false,
     "start_time": "2022-02-25T19:24:53.170906",
     "status": "completed"
    },
    "tags": []
   },
   "outputs": [],
   "source": [
    "df_test = pd.read_csv(DATA_PATH + \"SampleSubmission2023.csv\")"
   ]
  },
  {
   "cell_type": "code",
   "execution_count": 36,
   "metadata": {
    "execution": {
     "iopub.execute_input": "2023-02-20T15:17:28.744465Z",
     "iopub.status.busy": "2023-02-20T15:17:28.743739Z",
     "iopub.status.idle": "2023-02-20T15:17:29.068531Z",
     "shell.execute_reply": "2023-02-20T15:17:29.067382Z",
     "shell.execute_reply.started": "2023-02-20T15:17:28.744420Z"
    },
    "papermill": {
     "duration": 0.131045,
     "end_time": "2022-02-25T19:24:53.488713",
     "exception": false,
     "start_time": "2022-02-25T19:24:53.357668",
     "status": "completed"
    },
    "tags": []
   },
   "outputs": [],
   "source": [
    "df_test['Season'] = df_test['ID'].apply(lambda x: int(x.split('_')[0]))\n",
    "df_test['TeamIdA'] = df_test['ID'].apply(lambda x: int(x.split('_')[1]))\n",
    "df_test['TeamIdB'] = df_test['ID'].apply(lambda x: int(x.split('_')[2]))"
   ]
  },
  {
   "cell_type": "code",
   "execution_count": 37,
   "metadata": {
    "execution": {
     "iopub.execute_input": "2023-02-20T15:17:29.071074Z",
     "iopub.status.busy": "2023-02-20T15:17:29.070359Z",
     "iopub.status.idle": "2023-02-20T15:17:29.087068Z",
     "shell.execute_reply": "2023-02-20T15:17:29.085581Z",
     "shell.execute_reply.started": "2023-02-20T15:17:29.071026Z"
    },
    "papermill": {
     "duration": 0.094279,
     "end_time": "2022-02-25T19:24:53.663389",
     "exception": false,
     "start_time": "2022-02-25T19:24:53.56911",
     "status": "completed"
    },
    "tags": []
   },
   "outputs": [
    {
     "data": {
      "text/html": [
       "<div>\n",
       "<style scoped>\n",
       "    .dataframe tbody tr th:only-of-type {\n",
       "        vertical-align: middle;\n",
       "    }\n",
       "\n",
       "    .dataframe tbody tr th {\n",
       "        vertical-align: top;\n",
       "    }\n",
       "\n",
       "    .dataframe thead th {\n",
       "        text-align: right;\n",
       "    }\n",
       "</style>\n",
       "<table border=\"1\" class=\"dataframe\">\n",
       "  <thead>\n",
       "    <tr style=\"text-align: right;\">\n",
       "      <th></th>\n",
       "      <th>ID</th>\n",
       "      <th>Pred</th>\n",
       "      <th>Season</th>\n",
       "      <th>TeamIdA</th>\n",
       "      <th>TeamIdB</th>\n",
       "    </tr>\n",
       "  </thead>\n",
       "  <tbody>\n",
       "    <tr>\n",
       "      <th>0</th>\n",
       "      <td>2023_1101_1102</td>\n",
       "      <td>0.5</td>\n",
       "      <td>2023</td>\n",
       "      <td>1101</td>\n",
       "      <td>1102</td>\n",
       "    </tr>\n",
       "    <tr>\n",
       "      <th>1</th>\n",
       "      <td>2023_1101_1103</td>\n",
       "      <td>0.5</td>\n",
       "      <td>2023</td>\n",
       "      <td>1101</td>\n",
       "      <td>1103</td>\n",
       "    </tr>\n",
       "    <tr>\n",
       "      <th>2</th>\n",
       "      <td>2023_1101_1104</td>\n",
       "      <td>0.5</td>\n",
       "      <td>2023</td>\n",
       "      <td>1101</td>\n",
       "      <td>1104</td>\n",
       "    </tr>\n",
       "    <tr>\n",
       "      <th>3</th>\n",
       "      <td>2023_1101_1105</td>\n",
       "      <td>0.5</td>\n",
       "      <td>2023</td>\n",
       "      <td>1101</td>\n",
       "      <td>1105</td>\n",
       "    </tr>\n",
       "    <tr>\n",
       "      <th>4</th>\n",
       "      <td>2023_1101_1106</td>\n",
       "      <td>0.5</td>\n",
       "      <td>2023</td>\n",
       "      <td>1101</td>\n",
       "      <td>1106</td>\n",
       "    </tr>\n",
       "  </tbody>\n",
       "</table>\n",
       "</div>"
      ],
      "text/plain": [
       "               ID  Pred  Season  TeamIdA  TeamIdB\n",
       "0  2023_1101_1102   0.5    2023     1101     1102\n",
       "1  2023_1101_1103   0.5    2023     1101     1103\n",
       "2  2023_1101_1104   0.5    2023     1101     1104\n",
       "3  2023_1101_1105   0.5    2023     1101     1105\n",
       "4  2023_1101_1106   0.5    2023     1101     1106"
      ]
     },
     "execution_count": 37,
     "metadata": {},
     "output_type": "execute_result"
    }
   ],
   "source": [
    "df_test.head()"
   ]
  },
  {
   "cell_type": "markdown",
   "metadata": {
    "papermill": {
     "duration": 0.079625,
     "end_time": "2022-02-25T19:24:53.824638",
     "exception": false,
     "start_time": "2022-02-25T19:24:53.745013",
     "status": "completed"
    },
    "tags": []
   },
   "source": [
    "### Seeds\n",
    "- Seeds are not released yet, so I fill missing values with \"W01\""
   ]
  },
  {
   "cell_type": "code",
   "execution_count": 38,
   "metadata": {
    "execution": {
     "iopub.execute_input": "2023-02-20T15:17:29.089257Z",
     "iopub.status.busy": "2023-02-20T15:17:29.088761Z",
     "iopub.status.idle": "2023-02-20T15:17:29.154606Z",
     "shell.execute_reply": "2023-02-20T15:17:29.153399Z",
     "shell.execute_reply.started": "2023-02-20T15:17:29.089223Z"
    },
    "papermill": {
     "duration": 0.098431,
     "end_time": "2022-02-25T19:24:54.004514",
     "exception": false,
     "start_time": "2022-02-25T19:24:53.906083",
     "status": "completed"
    },
    "tags": []
   },
   "outputs": [],
   "source": [
    "df_test = pd.merge(\n",
    "    df_test,\n",
    "    df_seeds,\n",
    "    how='left',\n",
    "    left_on=['Season', 'TeamIdA'],\n",
    "    right_on=['Season', 'TeamID']\n",
    ").drop('TeamID', axis=1).rename(columns={'Seed': 'SeedA'}).fillna('W01')"
   ]
  },
  {
   "cell_type": "code",
   "execution_count": 39,
   "metadata": {
    "execution": {
     "iopub.execute_input": "2023-02-20T15:17:29.157127Z",
     "iopub.status.busy": "2023-02-20T15:17:29.156596Z",
     "iopub.status.idle": "2023-02-20T15:17:29.240719Z",
     "shell.execute_reply": "2023-02-20T15:17:29.239316Z",
     "shell.execute_reply.started": "2023-02-20T15:17:29.157076Z"
    },
    "papermill": {
     "duration": 0.095495,
     "end_time": "2022-02-25T19:24:54.182199",
     "exception": false,
     "start_time": "2022-02-25T19:24:54.086704",
     "status": "completed"
    },
    "tags": []
   },
   "outputs": [],
   "source": [
    "df_test = pd.merge(\n",
    "    df_test, \n",
    "    df_seeds, \n",
    "    how='left', \n",
    "    left_on=['Season', 'TeamIdB'], \n",
    "    right_on=['Season', 'TeamID']\n",
    ").drop('TeamID', axis=1).rename(columns={'Seed': 'SeedB'}).fillna('W01')"
   ]
  },
  {
   "cell_type": "code",
   "execution_count": 40,
   "metadata": {
    "execution": {
     "iopub.execute_input": "2023-02-20T15:17:29.242222Z",
     "iopub.status.busy": "2023-02-20T15:17:29.241872Z",
     "iopub.status.idle": "2023-02-20T15:17:29.841718Z",
     "shell.execute_reply": "2023-02-20T15:17:29.840687Z",
     "shell.execute_reply.started": "2023-02-20T15:17:29.242191Z"
    },
    "papermill": {
     "duration": 0.147913,
     "end_time": "2022-02-25T19:24:54.412468",
     "exception": false,
     "start_time": "2022-02-25T19:24:54.264555",
     "status": "completed"
    },
    "tags": []
   },
   "outputs": [],
   "source": [
    "df_test['SeedA'] = df_test['SeedA'].apply(treat_seed)\n",
    "df_test['SeedB'] = df_test['SeedB'].apply(treat_seed)"
   ]
  },
  {
   "cell_type": "markdown",
   "metadata": {
    "papermill": {
     "duration": 0.080797,
     "end_time": "2022-02-25T19:24:54.576105",
     "exception": false,
     "start_time": "2022-02-25T19:24:54.495308",
     "status": "completed"
    },
    "tags": []
   },
   "source": [
    "### Season Stats"
   ]
  },
  {
   "cell_type": "code",
   "execution_count": 41,
   "metadata": {
    "execution": {
     "iopub.execute_input": "2023-02-20T15:17:29.844164Z",
     "iopub.status.busy": "2023-02-20T15:17:29.843066Z",
     "iopub.status.idle": "2023-02-20T15:17:29.899207Z",
     "shell.execute_reply": "2023-02-20T15:17:29.897912Z",
     "shell.execute_reply.started": "2023-02-20T15:17:29.844117Z"
    },
    "papermill": {
     "duration": 0.130771,
     "end_time": "2022-02-25T19:24:54.789379",
     "exception": false,
     "start_time": "2022-02-25T19:24:54.658608",
     "status": "completed"
    },
    "tags": []
   },
   "outputs": [],
   "source": [
    "df_test = pd.merge(\n",
    "    df_test,\n",
    "    df_features_season,\n",
    "    how='left',\n",
    "    left_on=['Season', 'TeamIdA'],\n",
    "    right_on=['Season', 'TeamID']\n",
    ").rename(columns={\n",
    "    'NumWins': 'NumWinsA',\n",
    "    'NumLosses': 'NumLossesA',\n",
    "    'GapWins': 'GapWinsA',\n",
    "    'GapLosses': 'GapLossesA',\n",
    "    'WinRatio': 'WinRatioA',\n",
    "    'GapAvg': 'GapAvgA',\n",
    "}).drop(columns='TeamID', axis=1)"
   ]
  },
  {
   "cell_type": "code",
   "execution_count": 42,
   "metadata": {
    "execution": {
     "iopub.execute_input": "2023-02-20T15:17:29.900926Z",
     "iopub.status.busy": "2023-02-20T15:17:29.900570Z",
     "iopub.status.idle": "2023-02-20T15:17:29.968584Z",
     "shell.execute_reply": "2023-02-20T15:17:29.967273Z",
     "shell.execute_reply.started": "2023-02-20T15:17:29.900891Z"
    },
    "papermill": {
     "duration": 0.101794,
     "end_time": "2022-02-25T19:24:54.972541",
     "exception": false,
     "start_time": "2022-02-25T19:24:54.870747",
     "status": "completed"
    },
    "tags": []
   },
   "outputs": [],
   "source": [
    "df_test = pd.merge(\n",
    "    df_test,\n",
    "    df_features_season,\n",
    "    how='left',\n",
    "    left_on=['Season', 'TeamIdB'],\n",
    "    right_on=['Season', 'TeamID']\n",
    ").rename(columns={\n",
    "    'NumWins': 'NumWinsB',\n",
    "    'NumLosses': 'NumLossesB',\n",
    "    'GapWins': 'GapWinsB',\n",
    "    'GapLosses': 'GapLossesB',\n",
    "    'WinRatio': 'WinRatioB',\n",
    "    'GapAvg': 'GapAvgB',\n",
    "}).drop(columns='TeamID', axis=1)"
   ]
  },
  {
   "cell_type": "markdown",
   "metadata": {
    "papermill": {
     "duration": 0.081398,
     "end_time": "2022-02-25T19:24:55.135113",
     "exception": false,
     "start_time": "2022-02-25T19:24:55.053715",
     "status": "completed"
    },
    "tags": []
   },
   "source": [
    "### Ratings"
   ]
  },
  {
   "cell_type": "code",
   "execution_count": 43,
   "metadata": {
    "execution": {
     "iopub.execute_input": "2023-02-20T15:17:29.971165Z",
     "iopub.status.busy": "2023-02-20T15:17:29.969910Z",
     "iopub.status.idle": "2023-02-20T15:17:29.976203Z",
     "shell.execute_reply": "2023-02-20T15:17:29.974917Z",
     "shell.execute_reply.started": "2023-02-20T15:17:29.971099Z"
    },
    "papermill": {
     "duration": 0.096184,
     "end_time": "2022-02-25T19:24:55.312582",
     "exception": false,
     "start_time": "2022-02-25T19:24:55.216398",
     "status": "completed"
    },
    "tags": []
   },
   "outputs": [],
   "source": [
    "# df_test = pd.merge(\n",
    "#     df_test,\n",
    "#     df_538,\n",
    "#     how='left',\n",
    "#     left_on=['Season', 'TeamIdA'],\n",
    "#     right_on=['Season', 'TeamID']\n",
    "# ).drop('TeamID', axis=1).rename(columns={'538rating': '538ratingA'})"
   ]
  },
  {
   "cell_type": "code",
   "execution_count": 44,
   "metadata": {
    "execution": {
     "iopub.execute_input": "2023-02-20T15:17:29.979975Z",
     "iopub.status.busy": "2023-02-20T15:17:29.979603Z",
     "iopub.status.idle": "2023-02-20T15:17:29.988834Z",
     "shell.execute_reply": "2023-02-20T15:17:29.987772Z",
     "shell.execute_reply.started": "2023-02-20T15:17:29.979943Z"
    },
    "papermill": {
     "duration": 0.098851,
     "end_time": "2022-02-25T19:24:55.490645",
     "exception": false,
     "start_time": "2022-02-25T19:24:55.391794",
     "status": "completed"
    },
    "tags": []
   },
   "outputs": [],
   "source": [
    "# df_test = pd.merge(\n",
    "#     df_test,\n",
    "#     df_538,\n",
    "#     how='left',\n",
    "#     left_on=['Season', 'TeamIdB'],\n",
    "#     right_on=['Season', 'TeamID']\n",
    "# ).drop('TeamID', axis=1).rename(columns={'538rating': '538ratingB'})"
   ]
  },
  {
   "cell_type": "markdown",
   "metadata": {
    "papermill": {
     "duration": 0.080145,
     "end_time": "2022-02-25T19:24:55.651626",
     "exception": false,
     "start_time": "2022-02-25T19:24:55.571481",
     "status": "completed"
    },
    "tags": []
   },
   "source": [
    "### Differences"
   ]
  },
  {
   "cell_type": "code",
   "execution_count": 45,
   "metadata": {
    "execution": {
     "iopub.execute_input": "2023-02-20T15:17:29.990766Z",
     "iopub.status.busy": "2023-02-20T15:17:29.990230Z",
     "iopub.status.idle": "2023-02-20T15:17:30.003935Z",
     "shell.execute_reply": "2023-02-20T15:17:30.002585Z",
     "shell.execute_reply.started": "2023-02-20T15:17:29.990727Z"
    },
    "papermill": {
     "duration": 0.093307,
     "end_time": "2022-02-25T19:24:55.827104",
     "exception": false,
     "start_time": "2022-02-25T19:24:55.733797",
     "status": "completed"
    },
    "tags": []
   },
   "outputs": [],
   "source": [
    "for col in cols_to_diff:\n",
    "    df_test[col + 'Diff'] = df_test[col + 'A'] - df_test[col + 'B']"
   ]
  },
  {
   "cell_type": "markdown",
   "metadata": {
    "papermill": {
     "duration": 0.081221,
     "end_time": "2022-02-25T19:24:56.179012",
     "exception": false,
     "start_time": "2022-02-25T19:24:56.097791",
     "status": "completed"
    },
    "tags": []
   },
   "source": [
    "## Target"
   ]
  },
  {
   "cell_type": "code",
   "execution_count": 46,
   "metadata": {
    "execution": {
     "iopub.execute_input": "2023-02-20T15:17:30.006470Z",
     "iopub.status.busy": "2023-02-20T15:17:30.006093Z",
     "iopub.status.idle": "2023-02-20T15:17:30.016219Z",
     "shell.execute_reply": "2023-02-20T15:17:30.014759Z",
     "shell.execute_reply.started": "2023-02-20T15:17:30.006436Z"
    },
    "papermill": {
     "duration": 0.091844,
     "end_time": "2022-02-25T19:24:56.352459",
     "exception": false,
     "start_time": "2022-02-25T19:24:56.260615",
     "status": "completed"
    },
    "tags": []
   },
   "outputs": [],
   "source": [
    "df['ScoreDiff'] = df['ScoreA'] - df['ScoreB']\n",
    "df['WinA'] = (df['ScoreDiff'] > 0).astype(int)"
   ]
  },
  {
   "cell_type": "markdown",
   "metadata": {
    "papermill": {
     "duration": 0.081095,
     "end_time": "2022-02-25T19:24:56.515487",
     "exception": false,
     "start_time": "2022-02-25T19:24:56.434392",
     "status": "completed"
    },
    "tags": []
   },
   "source": [
    "# Modeling"
   ]
  },
  {
   "cell_type": "code",
   "execution_count": 47,
   "metadata": {
    "execution": {
     "iopub.execute_input": "2023-02-20T15:17:30.017995Z",
     "iopub.status.busy": "2023-02-20T15:17:30.017678Z",
     "iopub.status.idle": "2023-02-20T15:17:30.028851Z",
     "shell.execute_reply": "2023-02-20T15:17:30.027875Z",
     "shell.execute_reply.started": "2023-02-20T15:17:30.017966Z"
    }
   },
   "outputs": [],
   "source": [
    "features = [\n",
    "    \"SeedA\", \"SeedB\", 'WinRatioA', 'GapAvgA', 'WinRatioB', 'GapAvgB', 'SeedDiff', 'WinRatioDiff', 'GapAvgDiff'\n",
    "]"
   ]
  },
  {
   "cell_type": "code",
   "execution_count": 48,
   "metadata": {
    "execution": {
     "iopub.execute_input": "2023-02-20T15:17:30.031614Z",
     "iopub.status.busy": "2023-02-20T15:17:30.030725Z",
     "iopub.status.idle": "2023-02-20T15:17:30.041482Z",
     "shell.execute_reply": "2023-02-20T15:17:30.040123Z",
     "shell.execute_reply.started": "2023-02-20T15:17:30.031566Z"
    },
    "papermill": {
     "duration": 0.088664,
     "end_time": "2022-02-25T19:24:56.685549",
     "exception": false,
     "start_time": "2022-02-25T19:24:56.596885",
     "status": "completed"
    },
    "tags": []
   },
   "outputs": [],
   "source": [
    "# features = [\n",
    "#     'SeedDiff',\n",
    "# #     '538ratingDiff',\n",
    "#     'WinRatioDiff', \n",
    "#     'GapAvgDiff', \n",
    "# ]"
   ]
  },
  {
   "cell_type": "code",
   "execution_count": 49,
   "metadata": {
    "execution": {
     "iopub.execute_input": "2023-02-20T15:17:30.043483Z",
     "iopub.status.busy": "2023-02-20T15:17:30.043048Z",
     "iopub.status.idle": "2023-02-20T15:17:30.054083Z",
     "shell.execute_reply": "2023-02-20T15:17:30.052893Z",
     "shell.execute_reply.started": "2023-02-20T15:17:30.043435Z"
    },
    "papermill": {
     "duration": 0.092196,
     "end_time": "2022-02-25T19:24:56.859301",
     "exception": false,
     "start_time": "2022-02-25T19:24:56.767105",
     "status": "completed"
    },
    "tags": []
   },
   "outputs": [],
   "source": [
    "def rescale(features, df_train, df_val, df_test=None):\n",
    "    min_ = df_train[features].min()\n",
    "    max_ = df_train[features].max()\n",
    "    \n",
    "    df_train[features] = (df_train[features] - min_) / (max_ - min_)\n",
    "    df_val[features] = (df_val[features] - min_) / (max_ - min_)\n",
    "    \n",
    "    if df_test is not None:\n",
    "        df_test[features] = (df_test[features] - min_) / (max_ - min_)\n",
    "        \n",
    "    return df_train, df_val, df_test"
   ]
  },
  {
   "cell_type": "markdown",
   "metadata": {
    "papermill": {
     "duration": 0.082561,
     "end_time": "2022-02-25T19:24:57.024985",
     "exception": false,
     "start_time": "2022-02-25T19:24:56.942424",
     "status": "completed"
    },
    "tags": []
   },
   "source": [
    "### Cross Validation\n",
    "- Validate on season `n`, for `n` in the 3 last seasons. \n",
    "- Train on earlier seasons. First available season is 2016 because of the FiveThirtyEight ratings.\n",
    "- Pipeline support classification (predict the team that wins) and regression (predict the score gap), but classification worked better on CV."
   ]
  },
  {
   "cell_type": "code",
   "execution_count": 50,
   "metadata": {
    "execution": {
     "iopub.execute_input": "2023-02-20T15:17:30.056039Z",
     "iopub.status.busy": "2023-02-20T15:17:30.055623Z",
     "iopub.status.idle": "2023-02-20T15:17:30.074264Z",
     "shell.execute_reply": "2023-02-20T15:17:30.073267Z",
     "shell.execute_reply.started": "2023-02-20T15:17:30.056002Z"
    },
    "papermill": {
     "duration": 0.100469,
     "end_time": "2022-02-25T19:24:57.209507",
     "exception": false,
     "start_time": "2022-02-25T19:24:57.109038",
     "status": "completed"
    },
    "tags": []
   },
   "outputs": [],
   "source": [
    "def kfold(df, df_test_=None, plot=False, verbose=0, mode=\"reg\"):\n",
    "    seasons = df['Season'].unique()\n",
    "    cvs = []\n",
    "    pred_tests = []\n",
    "    target = \"ScoreDiff\" if mode == \"reg\" else \"WinA\"\n",
    "    \n",
    "    for season in seasons[1:]:\n",
    "        if verbose:\n",
    "            print(f'\\nValidating on season {season}')\n",
    "        \n",
    "        df_train = df[df['Season'] < season].reset_index(drop=True).copy()\n",
    "        df_val = df[df['Season'] == season].reset_index(drop=True).copy()\n",
    "        df_test = df_test_.copy()\n",
    "        \n",
    "        df_train, df_val, df_test = rescale(features, df_train, df_val, df_test)\n",
    "        \n",
    "        if mode == \"reg\":\n",
    "#             model = LinearRegression()\n",
    "            model = ElasticNet(alpha=1, l1_ratio=0.5)\n",
    "        else:\n",
    "            model = LogisticRegression(C=1)\n",
    "\n",
    "        model.fit(df_train[features], df_train[target])\n",
    "        \n",
    "        if mode == \"reg\":\n",
    "            pred = model.predict(df_val[features])\n",
    "        else:\n",
    "            pred = model.predict_proba(df_val[features])[:, 1]\n",
    "        \n",
    "        if df_test is not None:\n",
    "            if mode == \"reg\":\n",
    "                pred_test = model.predict(df_test[features])\n",
    "                \n",
    "#                 print( pred_test.max() - pred_test.min())\n",
    "                pred_test = (pred_test - pred_test.min()) / (pred_test.max() - pred_test.min())\n",
    "            else:\n",
    "                pred_test = model.predict_proba(df_test[features])[:, 1]\n",
    "                \n",
    "            pred_tests.append(pred_test)\n",
    "            \n",
    "        if plot:\n",
    "            plt.figure(figsize=(15, 6))\n",
    "            plt.subplot(1, 2, 1)\n",
    "            plt.scatter(pred, df_val['ScoreDiff'].values, s=5)\n",
    "            plt.title('Prediction vs Score Diff')\n",
    "            plt.grid(True)\n",
    "            plt.subplot(1, 2, 2)\n",
    "            sns.histplot(pred, bins=20)\n",
    "            plt.title('Predictions probability repartition')\n",
    "            plt.show()\n",
    "        \n",
    "        pred = (pred - pred.min()) / (pred.max() - pred.min())\n",
    "        pred = np.clip(pred, 0, 1)\n",
    "\n",
    "        score = ((df_val['WinA'].values - pred) ** 2).mean()\n",
    "        cvs.append(score)\n",
    "\n",
    "        if verbose:\n",
    "            print(f'\\t -> Scored {score:.3f}')\n",
    "        \n",
    "    print(f'\\n Local CV is {np.mean(cvs):.3f}')\n",
    "    \n",
    "    return pred_tests"
   ]
  },
  {
   "cell_type": "code",
   "execution_count": 51,
   "metadata": {
    "execution": {
     "iopub.execute_input": "2023-02-20T15:17:30.076789Z",
     "iopub.status.busy": "2023-02-20T15:17:30.075360Z",
     "iopub.status.idle": "2023-02-20T15:17:30.741480Z",
     "shell.execute_reply": "2023-02-20T15:17:30.739846Z",
     "shell.execute_reply.started": "2023-02-20T15:17:30.076749Z"
    },
    "papermill": {
     "duration": 0.265029,
     "end_time": "2022-02-25T19:24:57.55667",
     "exception": false,
     "start_time": "2022-02-25T19:24:57.291641",
     "status": "completed"
    },
    "tags": []
   },
   "outputs": [
    {
     "name": "stdout",
     "output_type": "stream",
     "text": [
      "\n",
      "Validating on season 2017\n",
      "\t -> Scored 0.164\n",
      "\n",
      "Validating on season 2018\n",
      "\t -> Scored 0.188\n",
      "\n",
      "Validating on season 2019\n",
      "\t -> Scored 0.154\n",
      "\n",
      "Validating on season 2021\n",
      "\t -> Scored 0.190\n",
      "\n",
      "Validating on season 2022\n",
      "\t -> Scored 0.197\n",
      "\n",
      " Local CV is 0.179\n"
     ]
    }
   ],
   "source": [
    "pred_tests = kfold(df, df_test, plot=False, verbose=1, mode=\"cls\")"
   ]
  },
  {
   "cell_type": "markdown",
   "metadata": {
    "papermill": {
     "duration": 0.082726,
     "end_time": "2022-02-25T19:25:00.06052",
     "exception": false,
     "start_time": "2022-02-25T19:24:59.977794",
     "status": "completed"
    },
    "tags": []
   },
   "source": [
    "## Submission"
   ]
  },
  {
   "cell_type": "code",
   "execution_count": 52,
   "metadata": {
    "execution": {
     "iopub.execute_input": "2023-02-20T15:17:30.744617Z",
     "iopub.status.busy": "2023-02-20T15:17:30.743691Z",
     "iopub.status.idle": "2023-02-20T15:17:31.719967Z",
     "shell.execute_reply": "2023-02-20T15:17:31.718698Z",
     "shell.execute_reply.started": "2023-02-20T15:17:30.744535Z"
    },
    "papermill": {
     "duration": 0.404691,
     "end_time": "2022-02-25T19:24:58.095455",
     "exception": false,
     "start_time": "2022-02-25T19:24:57.690764",
     "status": "completed"
    },
    "tags": []
   },
   "outputs": [
    {
     "data": {
      "image/png": "[encoded data removed]",
      "text/plain": [
       "<Figure size 500x500 with 1 Axes>"
      ]
     },
     "metadata": {},
     "output_type": "display_data"
    }
   ],
   "source": [
    "pred_test = np.mean(pred_tests, 0)\n",
    "df_test['pred'] = pred_test\n",
    "\n",
    "_ = sns.displot(pred_test)"
   ]
  },
  {
   "cell_type": "code",
   "execution_count": 53,
   "metadata": {
    "execution": {
     "iopub.execute_input": "2023-02-20T15:17:31.721990Z",
     "iopub.status.busy": "2023-02-20T15:17:31.721625Z",
     "iopub.status.idle": "2023-02-20T15:17:32.071873Z",
     "shell.execute_reply": "2023-02-20T15:17:32.070722Z",
     "shell.execute_reply.started": "2023-02-20T15:17:31.721957Z"
    },
    "papermill": {
     "duration": 0.138639,
     "end_time": "2022-02-25T19:25:00.284971",
     "exception": false,
     "start_time": "2022-02-25T19:25:00.146332",
     "status": "completed"
    },
    "tags": []
   },
   "outputs": [],
   "source": [
    "final_sub = df_test[['ID', 'pred']].copy()\n",
    "final_sub.to_csv('submission.csv', index=False)"
   ]
  },
  {
   "cell_type": "code",
   "execution_count": 54,
   "metadata": {
    "execution": {
     "iopub.execute_input": "2023-02-20T15:17:32.073898Z",
     "iopub.status.busy": "2023-02-20T15:17:32.073453Z",
     "iopub.status.idle": "2023-02-20T15:17:32.085601Z",
     "shell.execute_reply": "2023-02-20T15:17:32.084636Z",
     "shell.execute_reply.started": "2023-02-20T15:17:32.073855Z"
    },
    "papermill": {
     "duration": 0.09609,
     "end_time": "2022-02-25T19:25:00.467135",
     "exception": false,
     "start_time": "2022-02-25T19:25:00.371045",
     "status": "completed"
    },
    "tags": []
   },
   "outputs": [
    {
     "data": {
      "text/html": [
       "<div>\n",
       "<style scoped>\n",
       "    .dataframe tbody tr th:only-of-type {\n",
       "        vertical-align: middle;\n",
       "    }\n",
       "\n",
       "    .dataframe tbody tr th {\n",
       "        vertical-align: top;\n",
       "    }\n",
       "\n",
       "    .dataframe thead th {\n",
       "        text-align: right;\n",
       "    }\n",
       "</style>\n",
       "<table border=\"1\" class=\"dataframe\">\n",
       "  <thead>\n",
       "    <tr style=\"text-align: right;\">\n",
       "      <th></th>\n",
       "      <th>ID</th>\n",
       "      <th>pred</th>\n",
       "    </tr>\n",
       "  </thead>\n",
       "  <tbody>\n",
       "    <tr>\n",
       "      <th>0</th>\n",
       "      <td>2023_1101_1102</td>\n",
       "      <td>0.478706</td>\n",
       "    </tr>\n",
       "    <tr>\n",
       "      <th>1</th>\n",
       "      <td>2023_1101_1103</td>\n",
       "      <td>0.454932</td>\n",
       "    </tr>\n",
       "    <tr>\n",
       "      <th>2</th>\n",
       "      <td>2023_1101_1104</td>\n",
       "      <td>0.392772</td>\n",
       "    </tr>\n",
       "    <tr>\n",
       "      <th>3</th>\n",
       "      <td>2023_1101_1105</td>\n",
       "      <td>0.511952</td>\n",
       "    </tr>\n",
       "    <tr>\n",
       "      <th>4</th>\n",
       "      <td>2023_1101_1106</td>\n",
       "      <td>0.567585</td>\n",
       "    </tr>\n",
       "  </tbody>\n",
       "</table>\n",
       "</div>"
      ],
      "text/plain": [
       "               ID      pred\n",
       "0  2023_1101_1102  0.478706\n",
       "1  2023_1101_1103  0.454932\n",
       "2  2023_1101_1104  0.392772\n",
       "3  2023_1101_1105  0.511952\n",
       "4  2023_1101_1106  0.567585"
      ]
     },
     "execution_count": 54,
     "metadata": {},
     "output_type": "execute_result"
    }
   ],
   "source": [
    "final_sub.head()"
   ]
  },
  {
   "cell_type": "code",
   "execution_count": null,
   "metadata": {},
   "outputs": [],
   "source": [
    "Done ! "
   ]
  }
 ],
 "metadata": {
  "kernelspec": {
   "display_name": "Python 3 (ipykernel)",
   "language": "python",
   "name": "python3"
  },
  "language_info": {
   "codemirror_mode": {
    "name": "ipython",
    "version": 3
   },
   "file_extension": ".py",
   "mimetype": "text/x-python",
   "name": "python",
   "nbconvert_exporter": "python",
   "pygments_lexer": "ipython3",
   "version": "3.9.12"
  }
 },
 "nbformat": 4,
 "nbformat_minor": 4
}
